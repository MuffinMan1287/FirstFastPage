{
 "cells": [
  {
   "attachments": {},
   "cell_type": "markdown",
   "metadata": {},
   "source": [
    "# Unit 3 Section 14 and 15\n",
    "> Hacks for 3.14 and 3.15\n",
    "\n",
    "- toc: true\n",
    "- badges: true\n",
    "- comments: true\n",
    "- categories: [csp]\n",
    "- image: "
   ]
  },
  {
   "attachments": {},
   "cell_type": "markdown",
   "metadata": {},
   "source": [
    "# Reflection\n",
    "\n",
    "This was an interesting lesson. It gave me new insights on useful skills for coding. Using libraries will allow coding to be much easier, and use work that has already been developed. Documentation makes it easy for someone to read my code, and many programs have a documentation which outlines usage for the users. The random library is used very frequently in Python programming. Randomization can be very useful in programs. A lot of programs which we see use randomization, such as games or websites.\n",
    "\n",
    "## Notes\n",
    "- Software libraries contain procedures used in creating novel programs\n",
    "- Libraries and prewritten code can make writing algorithms much easier\n",
    "- Libraries simplify complex programs\n",
    "- APIs(application program interfaces) specify how procedures in libraries should behave and be utilized\n",
    "- Reading documentation makes it much easier to understand how to use libraries/APIs\n",
    "- Useful random functions include:\n",
    "    - random.randint(a, b): generates a random number. The values of a and b are required, as they are the start and stop values, placing an inclusive limit on the number to be generated. C is the step, which is optional, and is the interval at which the random numbers are generated at\n",
    "    - random.randrange(a, b, c): generates a random number. The values of a and b are required, as they are the start and stop values, placing an inclusive limit on the number to be generated. C is the step, which describes what kind of multiple can be generated. The potential value starts at a, or is a a + a multiple of c, and is less than b.\n",
    "    - random.shuffle: shuffles a list randomly to scramble contents\n",
    "\n",
    "### Vocab\n",
    "- <mark>Documentation:</mark> Text that explains the what, how, or why of your code.\n",
    "- <mark>Libraries:</mark> A collection of prewritten code or procedures that coders can use to maximize their efficiency\n",
    "- <mark>Application Programming Interface:</mark> A type of software through several computers are able to communicate information amongst eachother"
   ]
  },
  {
   "attachments": {},
   "cell_type": "markdown",
   "metadata": {},
   "source": [
    "# Multiple Choice Problems\n",
    "\n",
    "- 1. B. A random integer from a to b inclusive\n",
    "    - The random(a, b) function is inclusive, and generates a number. This means that the random integer will be from a to b and inclusive.\n",
    "- 2. A. x = start, y = stop, z = step\n",
    "    - X and Y describe the range in random(x, y, z). These are both required. Z is optional, and is the step, and shows the intervals for random numbers.\n",
    "- 3. A. random.item\n",
    "    - random.item does not exist. random.random generates a float between 0 and 1. random.shuffle randomly shuffles a list. random.randint generates a random integer.\n",
    "\n",
    "# Short Answer Questions\n",
    "1. Using libraries allows users to access and reuse pre-written code. This allows algorithms to be made more efficient. Additionally, there are many libraries which are created for multiple different purposes, which makes it easier for programmers to create more complex algorithms.\n",
    "2. First, the code segment imports the random library for use. Then, the program takes in names from user input, and puts them into a list(names). Then, the variable num_items finds the length of the list of names. The random_choice variable generates a random number which will be an index of the list. random_choice makes use of the random.randint function and generates a value from 0 to the maximum index(length of list minus 1). Then the program finds the person who is associated with the randomly generated value. Finally, the program prints that individual's name.\n"
   ]
  },
  {
   "cell_type": "code",
   "execution_count": 12,
   "metadata": {},
   "outputs": [
    {
     "name": "stdout",
     "output_type": "stream",
     "text": [
      " Dwayne Johnson is going to buy the meal today!\n"
     ]
    }
   ],
   "source": [
    "# Question 2 of Short Answer\n",
    "import random \n",
    "\n",
    "# takes user input, puts it into a list of names\n",
    "names_string = input(\"Give me everybody's names, seperated by a comma.\")\n",
    "names = names_string.split(\",\")\n",
    "\n",
    "num_items = len(names)\n",
    "\n",
    "# uses random to choose a random number\n",
    "random_choice = random.randint(0, num_items - 1)\n",
    "\n",
    "# associates random number with a name\n",
    "person_who_will_pay = names[random_choice]\n",
    "\n",
    "# prints name\n",
    "print(f\"{person_who_will_pay} is going to buy the meal today!\")"
   ]
  },
  {
   "attachments": {},
   "cell_type": "markdown",
   "metadata": {},
   "source": [
    "# Coding Challenge\n",
    "\n",
    "## Question 1"
   ]
  },
  {
   "cell_type": "code",
   "execution_count": 6,
   "metadata": {},
   "outputs": [
    {
     "name": "stdout",
     "output_type": "stream",
     "text": [
      "['Josh', 'Jared', 'McCorkle', 'Jalen', 'Dak']\n"
     ]
    }
   ],
   "source": [
    "import random\n",
    "\n",
    "names_list = [\"McCorkle\", \"Patrick\", \"Josh\", \"Justin\", \"Kyler\", \"Jared\", \"Derek\", \"Jalen\", \"Daniel\", \"Taylor\", \"Dak\", \"Tom\", \"Andy\", \"Mike\", \"Davis\"]\n",
    "random_list = []\n",
    "\n",
    "def addPeople(list, new_list):\n",
    "    count = 1\n",
    "    while count <= 5:\n",
    "        number = random.randint(0, len(list) - 1)\n",
    "        new_list.append(list[number])\n",
    "        count += 1\n",
    "    return new_list\n",
    "\n",
    "print(addPeople(names_list, random_list))"
   ]
  },
  {
   "attachments": {},
   "cell_type": "markdown",
   "metadata": {},
   "source": [
    "### Documentation\n",
    "\n",
    "This program generates 5 random names from a list. A list of names is predefined, as well as another empty list for the names to be put into. The function `addPeople` is defined for the sequence of code. It establishes a counter variable, which allows for 5 names to be appended to using a while loop, as the program runs while the counter variable is under a certain value. A random number is generated using the random.randint function, which generates a random integer from 0 to 1 less than the length of the list. This makes sure that when it calls the index to append into the new list, the index values fall in the range of the list of full names. Finally, the program returns the new list.\n",
    "\n",
    "## Question 2"
   ]
  },
  {
   "cell_type": "code",
   "execution_count": 15,
   "metadata": {},
   "outputs": [
    {
     "name": "stdout",
     "output_type": "stream",
     "text": [
      "Player 1 won with a score of 8 points!\n",
      "Both players tied with 9 points!\n"
     ]
    }
   ],
   "source": [
    "import random\n",
    "score1 = 0\n",
    "score2 = 0\n",
    "\n",
    "def DiceGame():\n",
    "    score1 = random.randint(1, 6) + random.randint(1, 6)\n",
    "    score2 = random.randint(1, 6) + random.randint(1, 6)\n",
    "    if score1 > score2:\n",
    "        print(\"Player 1 won with a score of \" + str(score1) + \" points!\")\n",
    "    if score1 < score2:\n",
    "        print(\"Player 2 won with a score of \" + str(score2) + \" points!\")\n",
    "    if score1 == score2:\n",
    "        print(\"Both players tied with \" + str(score1) + \" points!\")\n",
    "\n",
    "DiceGame()\n",
    "DiceGame()"
   ]
  },
  {
   "attachments": {},
   "cell_type": "markdown",
   "metadata": {},
   "source": [
    "### Documentation\n",
    "\n",
    "The function must import the random library in order to replicate rolling a pair of dice. 2 variables are defined at first. Then, a function is created to represent the dice game. To give each player a score, the random.randint function is called twice, adding both random numbers to each other and storing that value. The random.randint function runs from 1 to 6, which represents a dice rolling a number from 1 to 6 equally. This is repeated for both players. Then, the scores are compared. If both scores are equal, a message is printed stating there is a tie. If one player has more points than the other, a statement saying that player with more points won is printed."
   ]
  },
  {
   "attachments": {},
   "cell_type": "markdown",
   "metadata": {},
   "source": [
    "## Extra\n",
    "\n",
    "Trying to randomly generate a maze"
   ]
  },
  {
   "cell_type": "code",
   "execution_count": 10,
   "metadata": {},
   "outputs": [
    {
     "name": "stdout",
     "output_type": "stream",
     "text": [
      "0 x x 0 E\n",
      "0 x 0 x 0\n",
      "0 0 0 x 0\n",
      "0 0 0 x x\n",
      "x S 0 0 0\n"
     ]
    }
   ],
   "source": [
    "import random\n",
    "\n",
    "# defining constraints\n",
    "width = 5\n",
    "height = 5\n",
    "obstacles = 12\n",
    "\n",
    "# creates the maze\n",
    "maze = [[0 for i in range(width)] for j in range(height)]\n",
    "\n",
    "# for loop to generate obstacles\n",
    "for i in range(obstacles):\n",
    "    x = random.randint(0, width - 1)\n",
    "    y = random.randint(0, height - 1)\n",
    "    maze[x][y] = 'x' # represents obstacles\n",
    "\n",
    "# function to create a start and end position\n",
    "def startEnd():\n",
    "    a = random.randint(0, width - 1)\n",
    "    b = random.randint(0, height - 1)\n",
    "    maze[a][b] = 'S' # represents the start position\n",
    "    c = random.randint(0, width - 1)\n",
    "    d = random.randint(0, height - 1)\n",
    "    maze[c][d] = 'E' # represents the end position\n",
    "\n",
    "startEnd()\n",
    "\n",
    "# function to print the maze\n",
    "for row in maze:\n",
    "    print(' '.join(str(cell) for cell in row))"
   ]
  }
 ],
 "metadata": {
  "kernelspec": {
   "display_name": "base",
   "language": "python",
   "name": "python3"
  },
  "language_info": {
   "codemirror_mode": {
    "name": "ipython",
    "version": 3
   },
   "file_extension": ".py",
   "mimetype": "text/x-python",
   "name": "python",
   "nbconvert_exporter": "python",
   "pygments_lexer": "ipython3",
   "version": "3.9.12 (main, Apr  5 2022, 01:53:17) \n[Clang 12.0.0 ]"
  },
  "orig_nbformat": 4,
  "vscode": {
   "interpreter": {
    "hash": "40d3a090f54c6569ab1632332b64b2c03c39dcf918b08424e98f38b5ae0af88f"
   }
  }
 },
 "nbformat": 4,
 "nbformat_minor": 2
}
