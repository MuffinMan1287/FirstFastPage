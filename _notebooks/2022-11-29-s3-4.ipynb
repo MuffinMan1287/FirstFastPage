{
 "cells": [
  {
   "cell_type": "markdown",
   "metadata": {},
   "source": [
    "# Unit 3 Section 3-4\n",
    "> Hacks for 3.3 and 3.4\n",
    "\n",
    "- toc: false\n",
    "- badges: true\n",
    "- comments: true\n",
    "- categories: [csp]\n",
    "- image: "
   ]
  },
  {
   "cell_type": "markdown",
   "metadata": {},
   "source": [
    "# 3.3 Video 1"
   ]
  },
  {
   "cell_type": "code",
   "execution_count": 1,
   "metadata": {},
   "outputs": [
    {
     "name": "stdout",
     "output_type": "stream",
     "text": [
      "[0, 2, 4, 6, 8, 10]\n"
     ]
    }
   ],
   "source": [
    "numbers = [0,1,2,3,4,5,6,7,8,9,10]\n",
    "evens = []\n",
    "\n",
    "# sequence --> all of the steps here\n",
    "for i in numbers: # iteration\n",
    "    if (numbers[i] % 2 == 0): # selection\n",
    "        evens.append(numbers[i])\n",
    "\n",
    "print(evens)"
   ]
  },
  {
   "cell_type": "code",
   "execution_count": 2,
   "metadata": {},
   "outputs": [
    {
     "name": "stdout",
     "output_type": "stream",
     "text": [
      "*\n",
      "**\n",
      "***\n",
      "****\n",
      "*****\n"
     ]
    }
   ],
   "source": [
    "i = 1\n",
    "starString = \"*\"\n",
    "# sequence --> all of the steps of the algorithm\n",
    "while i <= 5: # iteration iterates through steps\n",
    "  j = 1\n",
    "  while j <= i: # selection\n",
    "    print (\"*\", end= \"\")\n",
    "    j += 1\n",
    "  print ()\n",
    "  i += 1"
   ]
  },
  {
   "cell_type": "code",
   "execution_count": 5,
   "metadata": {},
   "outputs": [
    {
     "name": "stdout",
     "output_type": "stream",
     "text": [
      "Here are some pets:\n",
      "['cat', 'dog']\n"
     ]
    }
   ],
   "source": [
    "# Example 1\n",
    "\n",
    "animals = [\"lion\", \"whale\", \"cat\", \"dog\"]\n",
    "pets = []\n",
    "\n",
    "# sequencing: set of steps the code follows\n",
    "for i in animals: # iteration: iterating through each item of the list\n",
    "    if (i == \"cat\" or  i == \"dog\"): # selection: selects the item if it corresponds to a common house pet\n",
    "        pets.append(i)\n",
    "\n",
    "print(\"Here are some pets:\")\n",
    "print(pets)\n"
   ]
  },
  {
   "cell_type": "code",
   "execution_count": 6,
   "metadata": {},
   "outputs": [
    {
     "name": "stdout",
     "output_type": "stream",
     "text": [
      "The word racecar is a palindrome.\n",
      "The word python is not a palindrome.\n",
      "The word code is not a palindrome.\n"
     ]
    }
   ],
   "source": [
    "# Example 2\n",
    "\n",
    "words = [\"racecar\", \"python\", \"code\"]\n",
    "\n",
    "# sequence: set of steps in the algorithm, checks if word is palindrome\n",
    "for i in words: # iteration: iterates through the list\n",
    "    if i == i[::-1]: # selection: if the order of characters in an entry is the same going from the start and end, then the item is selected\n",
    "        print(\"The word \" + i + \" is a palindrome.\")\n",
    "    else:\n",
    "        print(\"The word \" + i + \" is not a palindrome.\")"
   ]
  },
  {
   "cell_type": "markdown",
   "metadata": {},
   "source": [
    "# 3.3 Video 2\n",
    "\n",
    "1. a = 1, b = 7, c = 3, d = 7\n",
    "2. The value of hot is true, the value of cold is true\n",
    "3. Sequence 1:\n",
    "\n",
    "a <-- 6\n",
    "b <-- 2\n",
    "c <-- 3\n",
    "d <-- 5\n",
    "e <-- 1\n",
    "\n",
    "b <-- a * c\n",
    "c <-- d + e\n",
    "e <-- a\n",
    "\n",
    "Values:\n",
    "a = 6, b = 18, c = 6, d = 5, e = 6\n",
    "\n",
    "a and d are unchanged\n",
    "b changes to the a times c(6*3)\n",
    "c changes to d + e(5+1)(note e is changed after the statement, so it retains the original value)\n",
    "e changes to a\n",
    "\n",
    "Sequence 2: \n",
    "\n",
    "totalscore <-- 9\n",
    "roundScore <-- 2\n",
    "penalty <-- 3\n",
    "timeouts <-- 1\n",
    "multiplier <-- 2\n",
    "reset <-- 0\n",
    "\n",
    "roundScore <-- roundScore + timeouts * multiplier\n",
    "timeouts <-- reset\n",
    "multiplier <-- reset\n",
    "roundScore <-- roundScore - penalty\n",
    "totalscore <-- totalscore + roundScore\n",
    "penalty <-- reset\n",
    "\n",
    "Values:\n",
    "toatalscore = 10, roundScore = 1, penalty = 0, timeouts = 0, multiplier = 0, reset = 0\n",
    "\n",
    "roundScore becomes the roundScore plus timeouts times the multiplier(2 + 1*2).\n",
    "timeouts is reset to 0.\n",
    "multiplier is set to 0.\n",
    "penalty(3) is subtracted from roundScore (4-3). roundScore becomes 1.\n",
    "roundScore is added to totalscore. totalscore is 10(9+1)\n",
    "penalty is reset to 0.\n",
    "\n",
    "4. num1 = 6, num2 = 11"
   ]
  },
  {
   "cell_type": "markdown",
   "metadata": {},
   "source": [
    "# 3.4 Video 1\n",
    "\n",
    "1. SmithB@gmail.com\n",
    "2. ompuook"
   ]
  },
  {
   "cell_type": "markdown",
   "metadata": {},
   "source": [
    "# Blog\n",
    "\n",
    "Through this lesson, I learned about sequencing, selection, and iteration. These can be used in an algorithm in order to further purpose. String length and concatenation allow for different values of strings to be manipulated and stored. This allows for greater use of strings and more implementation in code.\n",
    "\n",
    "Vocab:\n",
    "<mark>Sequencing:</mark> doing steps in order, for example, doing the first step then the second then the third, etc\n",
    "<mark>Selection:</mark> when the programmer decides between two different outcomes\n",
    "<mark>Iteration</mark> when you have to repeat a step until that condition is fulfilled"
   ]
  }
 ],
 "metadata": {
  "kernelspec": {
   "display_name": "Python 3.9.12 ('base')",
   "language": "python",
   "name": "python3"
  },
  "language_info": {
   "codemirror_mode": {
    "name": "ipython",
    "version": 3
   },
   "file_extension": ".py",
   "mimetype": "text/x-python",
   "name": "python",
   "nbconvert_exporter": "python",
   "pygments_lexer": "ipython3",
   "version": "3.9.12"
  },
  "orig_nbformat": 4,
  "vscode": {
   "interpreter": {
    "hash": "40d3a090f54c6569ab1632332b64b2c03c39dcf918b08424e98f38b5ae0af88f"
   }
  }
 },
 "nbformat": 4,
 "nbformat_minor": 2
}
