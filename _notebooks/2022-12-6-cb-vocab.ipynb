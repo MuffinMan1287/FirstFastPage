{
 "cells": [
  {
   "cell_type": "markdown",
   "metadata": {},
   "source": [
    "# AP CSP Vocabulary Terms\n",
    "> List of vocabulary to remember from Units 2 and 3\n",
    "\n",
    "- toc: true\n",
    "- badges: true\n",
    "- comments: true\n",
    "- categories: [csp]\n",
    "- image: "
   ]
  },
  {
   "cell_type": "markdown",
   "metadata": {},
   "source": [
    "# Unit 2 Binary/Data Terms\n",
    "\n",
    "- Bits: Smallest unit of computer information. The bit can either be on(1) or off(0).\n",
    "- Bytes: Unit of computer information. Usually will feature 8 bits\n",
    "- Hexadecimal / Nibbles: Half of a byte, so this uses only 4 bits\n",
    "- Binary Numbers: Represent with 0s and 1s\n",
    "- Unsigned Integer: Does not have a plus or minus indicator in front of the value\n",
    "- Signed Integer: Has a plus or minus sign in front of a value\n",
    "- Floating Point: Can be a positive or negative decimal\n",
    "- Binary Data Abstractions: \n",
    "- Boolean: Variable which has a value of either True or False \n",
    "- ASCII: American Standard Code for Information Interchange, encodes data for communication, allows a multitude of symbols to be represented\n",
    "- Unicode: System used to store and process text data\n",
    "- RGB: red, green, blue color model, can use data values to represent colors\n",
    "- Data Compression: \n",
    "- Lossy: (not discussed yet) \n",
    "- Lossless: (not discussed yet)\n",
    "\n",
    "# Unit 3 Algorithm/ Programming Terms\n",
    "\n",
    "- Variables: Stores a value in a data set, there are multiple data types\n",
    "- Data Types: types of data, include string(letters/words), integers(numbers), boolean(T/F), float(decimals), lists, dictionaries\n",
    "- Assignment Operators: operators which assign a variable a value, usually =\n",
    "- Managing Complexity with Variables:\n",
    "- Lists: able to store multiple data points in one variable, can be iterated through\n",
    "- 2D Lists: lists which store multiple lists, can be used to represent matrices\n",
    "- Dictionaries: Similar to a list, except stores key value pairs which can be called\n",
    "- Class: give blueprints for creating a data structure, store objects\n",
    "- Algorithms: Sequences of code which allow certain tasks to be completed\n",
    "- Sequence: The order in which a code is written \n",
    "- Selection: Selecting a certain code segment, can be based on conditions \n",
    "- Iteration: Going through a data set or repeating a step a certain number of times\n",
    "- Expressions: combinations of statements\n",
    "- Comparison Operators: Operators which compare two values, can be less than, equal to, greater than, greater than or equal to, less than or equal to\n",
    "- Booleans Expressions and Selection: Boolean Expressions are expressions based on True or False conditions, selection of a sequence can result if a boolean expression is true or false \n",
    "- Booleans Expressions and Iteration: A sequence of code or list/dictionary can be iterated through if there is a certain condition met\n",
    "- Truth Tables: Tables which represent the results of operators like and, or, not, xor\n",
    "- Characters: the individual indices of a string\n",
    "- Strings: variables which are made up of numbers or letters\n",
    "- Length: how long a string, list, or dictionary is, counts number of items or characters starting with 1 \n",
    "- Concatenation: taking parts of string using a function\n",
    "- Upper\n",
    "- Lower\n",
    "- Traversing Strings\n",
    "- Python If\n",
    "- Python Elif\n",
    "- Python Else conditionals\n",
    "- Nested Selection Statements\n",
    "- Python For\n",
    "- While loops with Range, with List\n",
    "- Combining loops with conditionals to Break, Continue\n",
    "- Procedural Abstraction: creating code segments to complete procedures\n",
    "- Python Def procedures: define a function to complete a specific code\n",
    "- Parameters: examples of types of data sets used in a list, like placeholders\n",
    "- Return Values: values which are saved in a program"
   ]
  }
 ],
 "metadata": {
  "kernelspec": {
   "display_name": "Python 3.9.12 ('base')",
   "language": "python",
   "name": "python3"
  },
  "language_info": {
   "name": "python",
   "version": "3.9.12"
  },
  "orig_nbformat": 4,
  "vscode": {
   "interpreter": {
    "hash": "40d3a090f54c6569ab1632332b64b2c03c39dcf918b08424e98f38b5ae0af88f"
   }
  }
 },
 "nbformat": 4,
 "nbformat_minor": 2
}
