{
 "cells": [
  {
   "attachments": {},
   "cell_type": "markdown",
   "metadata": {},
   "source": [
    "# Unit 3 Section 9 and 11\n",
    "> Hacks for 3.9 and 3.11\n",
    "\n",
    "- toc: true\n",
    "- badges: true\n",
    "- comments: true\n",
    "- categories: [csp]\n",
    "- image: "
   ]
  },
  {
   "attachments": {},
   "cell_type": "markdown",
   "metadata": {},
   "source": [
    "# Notes\n",
    "- Different algorithms can be created but still complete the same task\n",
    "- Algorithms that appear similar can yield different results\n",
    "- Boolean expressions can be written as equivalent conditional statements, and the opposite can be true\n",
    "- Different algorithms can be developed to solve similar problems\n",
    "- However, small changes to algorithms could also yield vastly different results\n",
    "- Modifications and combinations of algorithms can create new ideas\n",
    "- <mark>Algorithm:</mark> A process or set of rules to be followed in calculations or other problem solving operations, especially by a computer\n",
    "- <mark>Binary Search:</mark> starts at the middle of a sorted data set of numbers and eliminates half of the data; this process repeats until the desired value is found or all elements have been eliminated\n",
    "- Data has to be sorted in order\n",
    "- Binary search is often more efficient than a sequential search"
   ]
  },
  {
   "attachments": {},
   "cell_type": "markdown",
   "metadata": {},
   "source": [
    "# Question 1"
   ]
  },
  {
   "cell_type": "code",
   "execution_count": null,
   "metadata": {},
   "outputs": [],
   "source": [
    "IF (isCold OR isRaining) {\n",
    "    stayInside <-- True\n",
    "}\n",
    "ELSE {\n",
    "    stayInside <-- False\n",
    "}"
   ]
  },
  {
   "attachments": {},
   "cell_type": "markdown",
   "metadata": {},
   "source": [
    "# Question 2\n",
    "\n",
    "Psuedocode and python"
   ]
  },
  {
   "cell_type": "code",
   "execution_count": null,
   "metadata": {},
   "outputs": [],
   "source": [
    "numbers <-- [RANDOM(1,10), RANDOM(1,10), RANDOM(1,10), RANDOM(1,10)]\n",
    "topScore <-- numbers[1]\n",
    "IF topScore < numbers[2] {\n",
    "    topScore <-- numbers[2]\n",
    "}\n",
    "IF topScore < numbers[3] {\n",
    "    topScore <-- numbers[3]\n",
    "}\n",
    "IF topScore < numbers[4] {\n",
    "    topScore <-- numbers[4]\n",
    "}\n",
    "DISPLAY (topScore)\n"
   ]
  },
  {
   "cell_type": "code",
   "execution_count": 21,
   "metadata": {},
   "outputs": [
    {
     "name": "stdout",
     "output_type": "stream",
     "text": [
      "[6, 10, 7, 1]\n",
      "Your high score is 10!\n"
     ]
    }
   ],
   "source": [
    "import random\n",
    "\n",
    "numbers = []\n",
    "counter = 1\n",
    "topScore = 0\n",
    "\n",
    "while counter <= 4:\n",
    "    current = random.randint(1, 10)\n",
    "    numbers.append(current)\n",
    "    counter += 1\n",
    "\n",
    "for i in range(0, len(numbers)):\n",
    "    if numbers[i] > topScore:\n",
    "        topScore = numbers[i]\n",
    "    else:\n",
    "        topScore = topScore\n",
    "    \n",
    "\n",
    "print(numbers)\n",
    "print(\"Your high score is \" + str(topScore) + \"!\")\n",
    "\n"
   ]
  },
  {
   "attachments": {},
   "cell_type": "markdown",
   "metadata": {},
   "source": [
    "# Question 3"
   ]
  },
  {
   "cell_type": "code",
   "execution_count": null,
   "metadata": {},
   "outputs": [],
   "source": [
    "REPEAT UNTIL (goalReached){\n",
    "    IF (CAN_MOVE(FORWARD)) {\n",
    "        MOVE_FORWARD\n",
    "    }\n",
    "    ELSE{\n",
    "        IF (CAN_ROTATE(RIGHT)) {\n",
    "        ROTATE_RIGHT\n",
    "        }\n",
    "        ELSE {\n",
    "        ROTATE_LEFT\n",
    "        }\n",
    "    }\n",
    "}"
   ]
  },
  {
   "attachments": {},
   "cell_type": "markdown",
   "metadata": {},
   "source": [
    "# Question 4\n",
    "\n",
    "[See image](https://muffinman1287.github.io/FirstFastPage/markdown/ap/csp/2022/12/10/s9images.html#question-4)\n",
    "\n",
    "# Question 5\n",
    "\n",
    "- To select the number 69, you must go through binary search. First, you must find the middle value by adding the first(1) and last index(8) value and dividing by 2. Since that value is a decimal(3.5), round up(4), and the element is 6. \n",
    "- This is not the intended value, so take each half of the list, before the middle and after the middle and repeat binary search. Repeating this process for the first half finds a middle value of that portion(1+4/2 = 2.5, round to index 3, whose element has a value of 3). For the back half of the list, we repeat this value, with the 6-8th elements, selecting index 7, which has a value of 11. \n",
    "- Since the value of 69 is not found, we must repeat the binary search process. Now, the back half only has the endpoints to be checked, indices 6 and 8. Index 6 is 9, which is not the intended value, but index 8 is the intended value of 69.\n",
    "\n",
    "# Question 6\n",
    "\n",
    "[See image](https://muffinman1287.github.io/FirstFastPage/markdown/ap/csp/2022/12/10/s9images.html#question-6)\n",
    "\n",
    "# Question 7\n",
    "\n",
    "An order that can be used for binary search is:\n",
    "- [\"Market\", \"Ralphs\", \"store\", \"Target\", \"Walmart\"]\n",
    "This is because the strings are in alphabetical order, which would make sense.\n",
    "\n",
    "# Question 8\n",
    "\n",
    "Binary search is more efficient than sequential search because binary search allows the computer to check exponentially more numbers each search. A binary search algorithm keeps on multiplying the amount of numbers checked by 2 each time. The sequential search checks each element individually, which will probably take a longer time, since the algorithm must go through every item of a list.\n",
    "\n",
    "# Question 9\n",
    "\n",
    "[See image](https://muffinman1287.github.io/FirstFastPage/markdown/ap/csp/2022/12/10/s9images.html#question-9)\n",
    "\n",
    "To find the number 36, it would take 2 checks. The middle value on the first check would be 16, the 3rd index((1+5)/2). Then, we take the parts of the list on each side of the middle element. Before 16 are 64 and 36, while after 16 are 11 and 9. For the first part of the list there are 2 indices, 1 and 2. Using the binary search formula, (1+2)/2 = 1.5, which rounds up to the element at index 2, which is 36, the designated value."
   ]
  },
  {
   "cell_type": "code",
   "execution_count": 14,
   "metadata": {},
   "outputs": [
    {
     "name": "stdout",
     "output_type": "stream",
     "text": [
      "Element 4 is present at index 3\n"
     ]
    }
   ],
   "source": [
    "# Trying out binary search in python\n",
    "def binary_search(list, value):\n",
    "    bottom = 0\n",
    "    top = len(list) - 1\n",
    "    mid = 0\n",
    " \n",
    "    while bottom <= top:\n",
    "        mid = (bottom + top) // 2\n",
    "        if list[mid] < value:\n",
    "            bottom = mid + 1\n",
    "        elif list[mid] > value:\n",
    "            top = mid - 1\n",
    "        else:\n",
    "            return mid\n",
    "    return -1\n",
    "\n",
    "numbers = [1, 2, 3, 4, 5]\n",
    "x = 4\n",
    "\n",
    "test = binary_search(numbers, x)\n",
    "\n",
    "if test != -1:\n",
    "    print(\"Element\", str(x), \"is present at index\", str(test))\n",
    "else:\n",
    "    print(\"Element is not present in array\")"
   ]
  }
 ],
 "metadata": {
  "kernelspec": {
   "display_name": "base",
   "language": "python",
   "name": "python3"
  },
  "language_info": {
   "codemirror_mode": {
    "name": "ipython",
    "version": 3
   },
   "file_extension": ".py",
   "mimetype": "text/x-python",
   "name": "python",
   "nbconvert_exporter": "python",
   "pygments_lexer": "ipython3",
   "version": "3.9.12"
  },
  "orig_nbformat": 4,
  "vscode": {
   "interpreter": {
    "hash": "40d3a090f54c6569ab1632332b64b2c03c39dcf918b08424e98f38b5ae0af88f"
   }
  }
 },
 "nbformat": 4,
 "nbformat_minor": 2
}
