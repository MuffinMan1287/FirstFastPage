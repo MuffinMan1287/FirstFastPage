{
 "cells": [
  {
   "cell_type": "markdown",
   "metadata": {},
   "source": [
    "# Unit 3 Section 8, 10\n",
    "> Hacks for 3.8 and 3.10\n",
    "\n",
    "- toc: true\n",
    "- badges: true\n",
    "- comments: true\n",
    "- categories: [csp]\n",
    "- image: "
   ]
  },
  {
   "cell_type": "markdown",
   "metadata": {},
   "source": [
    "# Hacks\n",
    "\n",
    "## Exercise 1"
   ]
  },
  {
   "cell_type": "code",
   "execution_count": 69,
   "metadata": {},
   "outputs": [
    {
     "name": "stdout",
     "output_type": "stream",
     "text": [
      "[5, 4, 3, 2, 1]\n",
      "[5, 4, 3, 2, 1]\n"
     ]
    }
   ],
   "source": [
    "list  = [1, 2, 3, 4, 5]\n",
    "newlist = [] # Defining new list\n",
    "interval = len(list) - 1 # Another variable to store highest index\n",
    "\n",
    "# for loop, goes through all items\n",
    "for index in range(1, len(list) + 1):\n",
    "    i = index - 1\n",
    "    newlist.append(list[interval - i]) # appends all numbers backwards\n",
    "\n",
    "print(newlist)\n",
    "# Using commands to reverse\n",
    "list.reverse()\n",
    "print(list)"
   ]
  },
  {
   "cell_type": "markdown",
   "metadata": {},
   "source": [
    "## Exercise 2"
   ]
  },
  {
   "cell_type": "code",
   "execution_count": 67,
   "metadata": {},
   "outputs": [
    {
     "name": "stdout",
     "output_type": "stream",
     "text": [
      "[0, 1, 2, 3, 4, 5, 6, 7, 8, 9]\n"
     ]
    }
   ],
   "source": [
    "list = [9, 8, 4, 3, 5, 2, 6, 7, 1, 0]\n",
    "\n",
    "def bubble_sort(numbers): # function\n",
    "    has_swapped = True # check if the list has been swapped\n",
    "    while(has_swapped):\n",
    "        has_swapped = False\n",
    "        for i in range(len(numbers) - 1): # checks every value\n",
    "            if numbers[i] > numbers[i+1]: # checks if the current value is larger than the next one\n",
    "                holder = numbers[i] # temporary var\n",
    "                numbers[i] = numbers[i+1] # transferring values\n",
    "                numbers[i+1] = holder\n",
    "                has_swapped = True # List has been swapped\n",
    "    return numbers\n",
    "\n",
    "print(bubble_sort(list))\n"
   ]
  },
  {
   "cell_type": "markdown",
   "metadata": {},
   "source": [
    "### Reflection\n",
    "\n",
    "From these exercises, I learned a lot about list manipulation. I was introduced to some code segments which allowed me to manipulate a list. I also used algorithms to manipulate lists in certain ways. It is important to check the values of indices for certain programs. Indices are very important in lists because they have the value of where each data point is located.\n",
    "\n",
    "## Quiz\n",
    "\n",
    "I scored an 8/10 on the quiz. I got questions 7 and 9 wrong.\n",
    "\n",
    "### Question 7\n",
    "\n",
    "Link to Image: https://drive.google.com/file/d/1v6sMC8NobA_R4UbF3aJBKvRwTDdfT_xb/view?usp=sharing\n",
    "\n",
    "- Question: What is Base 0 Indexing?\n",
    "- Actual Answer: Seguence demarcated with an Index starting from 0\n",
    "\n",
    "I originally answered a) Binary, thinking that this would refer to the 0s and 1s. This was a silly mistake, and I forgot that Binary conversions are done with base 2. When a list has an index of 0 for its first element, this would be Base 0 Indexing, since the first index is at 0.\n",
    "\n",
    "### Question 9\n",
    "\n",
    "Link to Image: https://drive.google.com/file/d/1zmxeXww2YxTBzhzHWRuU_J0pQXQYPBSj/view?usp=sharing\n",
    "\n",
    "- Question: I want to iterate over a list until the user inputs 'quit'. What loop would I use?\n",
    "- Actual Answer: FOR loops\n",
    "\n",
    "My first answer was while loops because I thought it would make sense for the command to run while a certain condition is true, which would be if the user has not quit. FOR loops would work because it could include for every action, which could include opening an app, lowering the brightness, or shutting down the machine and quitting.\n",
    "\n",
    "### Reflection\n",
    "\n",
    "I thought I did decently well on the quiz. It will be important to pay attention to what the question is asking for to prevent silly mistakes. I will also need to remember to think through problems, and go through each answer choice to find the best one.\n",
    "\n",
    "# Important Notes\n",
    "\n",
    "- Iteration can repeat something multiple times, either based on a condition or a set count\n",
    "- **Lists methods <mark>Mutate</mark>, meaning they actively change the list, but they don't return anything. This means that <mark>return a None-type</mark>, which you cannot manipulate**\n",
    "- Lists are collections of data, are iterable\n",
    "- Lists start at index 0\n",
    "- Iterate through lists with for or while loops\n",
    "\n",
    "## Vocab\n",
    "- Iteration - Repitition of a Process\n",
    "- For Loop - FOR LOOP repeats a function for a set number of times; I is the number of times repeated\n",
    "- While Loop - The while loop is used to repeat a section of code an unknown number of times until a specific condition is met\n",
    "- Initialization - What sets the counter variable to a starting value. For example (var i = 0) represents an initial value of 0.\n",
    "- Condition - Allows the computer to know whether or not to keep repeating the loop.\n",
    "- increment/decrement - Modifies the counter variable after each repetition.\n",
    "- Indexing / List Index - The position of an element in a list, starting from 0\n",
    "- append, remove, pop - Various methods, append adds an element to the end, remove removes at an index, and pop removes the last item.\n",
    "- Elements [in a list] - An item in a list.\n",
    "- Nesting - Having one data type or function inside another data type or function, such as lists or loops.\n",
    "- array - Another name for a list, depends on the language\n"
   ]
  }
 ],
 "metadata": {
  "kernelspec": {
   "display_name": "Python 3.8.9 64-bit",
   "language": "python",
   "name": "python3"
  },
  "language_info": {
   "codemirror_mode": {
    "name": "ipython",
    "version": 3
   },
   "file_extension": ".py",
   "mimetype": "text/x-python",
   "name": "python",
   "nbconvert_exporter": "python",
   "pygments_lexer": "ipython3",
   "version": "3.8.9"
  },
  "orig_nbformat": 4,
  "vscode": {
   "interpreter": {
    "hash": "31f2aee4e71d21fbe5cf8b01ff0e069b9275f58929596ceb00d14d90e3e16cd6"
   }
  }
 },
 "nbformat": 4,
 "nbformat_minor": 2
}
