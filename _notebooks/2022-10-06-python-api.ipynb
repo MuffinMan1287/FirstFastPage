{
 "cells": [
  {
   "cell_type": "markdown",
   "metadata": {},
   "source": [
    "# Python API Test\n",
    "> API\n",
    "\n",
    "- toc: false\n",
    "- badges: true\n",
    "- comments: true\n",
    "- categories: [csp, python, week7]\n",
    "- image: "
   ]
  },
  {
   "cell_type": "code",
   "execution_count": 28,
   "metadata": {},
   "outputs": [
    {
     "name": "stdout",
     "output_type": "stream",
     "text": [
      "Printing response.text\n",
      "{\"title\":\"<h2>Lissajous Curves<\\/h2>\",\"problem\":\"<div class=\\\"problem_content\\\" role=\\\"problem\\\">\\r\\n<p>For coprime positive integers $a$ and $b$, let $C_{a,b}$ be the curve defined by:\\n\\\\[\\n\\\\begin{align}\\nx &amp;= \\\\cos \\\\left(at\\\\right) \\\\\\\\\\ny &amp;= \\\\cos \\\\left(b\\\\left(t-\\\\frac{\\\\pi}{10}\\\\right)\\\\right)\\n\\\\end{align}\\n\\\\]\\nwhere $t$ varies between 0 and $2\\\\pi$.<\\/p>\\n\\n<p>For example, the images below show $C_{2,5}$ (left) and $C_{7,4}$ (right):<\\/p>\\n<div style=\\\"text-align:center;\\\">\\n<img src=\\\"project\\/images\\/p777_lissajous-pair-25-74.png\\\" class=\\\"dark_img\\\" alt=\\\"\\\" height=\\\"300\\\">\\n<\\/div>\\n<p>Define $d(a,b) = \\\\sum (x^2 + y^2)$, where the sum is over all points (x, y) at which $C_{a,b}$ crosses itself.<\\/p>\\n\\n<p>For example, in the case of $C_{2,5}$ illustrated above, the curve crosses itself at two points: (0.31, 0) and (-0.81, 0), rounding coordinates to two decimal places, yielding $d(2, 5)=0.75$. Some other examples are $d(2,3)=4.5$, $d(7,4)=39.5$, <span style=\\\"white-space:nowrap;\\\">$d(7,5)=52$,<\\/span> and $d(10,7)=23.25$.<\\/p>\\n\\n<p>Let $s(m) = \\\\sum d(a,b)$, where this sum is over all pairs of coprime integers $a,b$ with $2\\\\le a\\\\le m$ and $2\\\\le b\\\\le m$.<br>\\nYou are given that $s(10) = 1602.5$ and $s(100) = 24256505$.<\\/p>\\n\\n<p>Find $s(10^6)$. Give your answer in scientific notation rounded to 10 significant digits; for example $s(100)$ would be given as 2.425650500e7.<\\/p>\\n<\\/div>\"}\n",
      "Printing response.json()\n",
      "{'title': '<h2>Lissajous Curves</h2>', 'problem': '<div class=\"problem_content\" role=\"problem\">\\r\\n<p>For coprime positive integers $a$ and $b$, let $C_{a,b}$ be the curve defined by:\\n\\\\[\\n\\\\begin{align}\\nx &amp;= \\\\cos \\\\left(at\\\\right) \\\\\\\\\\ny &amp;= \\\\cos \\\\left(b\\\\left(t-\\\\frac{\\\\pi}{10}\\\\right)\\\\right)\\n\\\\end{align}\\n\\\\]\\nwhere $t$ varies between 0 and $2\\\\pi$.</p>\\n\\n<p>For example, the images below show $C_{2,5}$ (left) and $C_{7,4}$ (right):</p>\\n<div style=\"text-align:center;\">\\n<img src=\"project/images/p777_lissajous-pair-25-74.png\" class=\"dark_img\" alt=\"\" height=\"300\">\\n</div>\\n<p>Define $d(a,b) = \\\\sum (x^2 + y^2)$, where the sum is over all points (x, y) at which $C_{a,b}$ crosses itself.</p>\\n\\n<p>For example, in the case of $C_{2,5}$ illustrated above, the curve crosses itself at two points: (0.31, 0) and (-0.81, 0), rounding coordinates to two decimal places, yielding $d(2, 5)=0.75$. Some other examples are $d(2,3)=4.5$, $d(7,4)=39.5$, <span style=\"white-space:nowrap;\">$d(7,5)=52$,</span> and $d(10,7)=23.25$.</p>\\n\\n<p>Let $s(m) = \\\\sum d(a,b)$, where this sum is over all pairs of coprime integers $a,b$ with $2\\\\le a\\\\le m$ and $2\\\\le b\\\\le m$.<br>\\nYou are given that $s(10) = 1602.5$ and $s(100) = 24256505$.</p>\\n\\n<p>Find $s(10^6)$. Give your answer in scientific notation rounded to 10 significant digits; for example $s(100)$ would be given as 2.425650500e7.</p>\\n</div>'}\n",
      "Printing a title\n",
      "<h2>Lissajous Curves</h2>\n",
      "Printing a problem\n",
      "<div class=\"problem_content\" role=\"problem\">\n",
      "<p>For coprime positive integers $a$ and $b$, let $C_{a,b}$ be the curve defined by:\n",
      "\\[\n",
      "\\begin{align}\n",
      "x &amp;= \\cos \\left(at\\right) \\\\\n",
      "y &amp;= \\cos \\left(b\\left(t-\\frac{\\pi}{10}\\right)\\right)\n",
      "\\end{align}\n",
      "\\]\n",
      "where $t$ varies between 0 and $2\\pi$.</p>\n",
      "\n",
      "<p>For example, the images below show $C_{2,5}$ (left) and $C_{7,4}$ (right):</p>\n",
      "<div style=\"text-align:center;\">\n",
      "<img src=\"project/images/p777_lissajous-pair-25-74.png\" class=\"dark_img\" alt=\"\" height=\"300\">\n",
      "</div>\n",
      "<p>Define $d(a,b) = \\sum (x^2 + y^2)$, where the sum is over all points (x, y) at which $C_{a,b}$ crosses itself.</p>\n",
      "\n",
      "<p>For example, in the case of $C_{2,5}$ illustrated above, the curve crosses itself at two points: (0.31, 0) and (-0.81, 0), rounding coordinates to two decimal places, yielding $d(2, 5)=0.75$. Some other examples are $d(2,3)=4.5$, $d(7,4)=39.5$, <span style=\"white-space:nowrap;\">$d(7,5)=52$,</span> and $d(10,7)=23.25$.</p>\n",
      "\n",
      "<p>Let $s(m) = \\sum d(a,b)$, where this sum is over all pairs of coprime integers $a,b$ with $2\\le a\\le m$ and $2\\le b\\le m$.<br>\n",
      "You are given that $s(10) = 1602.5$ and $s(100) = 24256505$.</p>\n",
      "\n",
      "<p>Find $s(10^6)$. Give your answer in scientific notation rounded to 10 significant digits; for example $s(100)$ would be given as 2.425650500e7.</p>\n",
      "</div>\n"
     ]
    }
   ],
   "source": [
    "import requests\n",
    "\n",
    "url = \"https://random-math-problem.p.rapidapi.com/random-problem\"\n",
    "\n",
    "querystring = {\"type\":\"html\"}\n",
    "\n",
    "headers = {\n",
    "\t\"X-RapidAPI-Key\": \"8677538c65mshfd1d85d7adf047fp17a8a1jsn7a54a04df28c\",\n",
    "\t\"X-RapidAPI-Host\": \"random-math-problem.p.rapidapi.com\"\n",
    "}\n",
    "\n",
    "response = requests.request(\"GET\", url, headers=headers, params=querystring)\n",
    "\n",
    "title = response.json().get('title')\n",
    "problem = response.json().get('problem')\n",
    "\n",
    "print(\"Printing response.text\")\n",
    "print(response.text)\n",
    "\n",
    "print(\"Printing response.json()\")\n",
    "print(response.json())\n",
    "print(\"Printing a title\")\n",
    "print(title) \n",
    "print(\"Printing a problem\")\n",
    "print(problem)\n",
    "\n"
   ]
  }
 ],
 "metadata": {
  "kernelspec": {
   "display_name": "Python 3.9.12 ('base')",
   "language": "python",
   "name": "python3"
  },
  "language_info": {
   "codemirror_mode": {
    "name": "ipython",
    "version": 3
   },
   "file_extension": ".py",
   "mimetype": "text/x-python",
   "name": "python",
   "nbconvert_exporter": "python",
   "pygments_lexer": "ipython3",
   "version": "3.9.12"
  },
  "orig_nbformat": 4,
  "vscode": {
   "interpreter": {
    "hash": "40d3a090f54c6569ab1632332b64b2c03c39dcf918b08424e98f38b5ae0af88f"
   }
  }
 },
 "nbformat": 4,
 "nbformat_minor": 2
}
