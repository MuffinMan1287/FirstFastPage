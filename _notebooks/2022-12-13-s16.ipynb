{
 "cells": [
  {
   "attachments": {},
   "cell_type": "markdown",
   "metadata": {},
   "source": [
    "# Unit 3 Section 16\n",
    "> Hacks for 3.16\n",
    "\n",
    "- toc: true\n",
    "- badges: true\n",
    "- comments: true\n",
    "- categories: [csp]\n",
    "- image: "
   ]
  },
  {
   "attachments": {},
   "cell_type": "markdown",
   "metadata": {},
   "source": [
    "# Answers to Hacks\n",
    "|Question|Answer |\n",
    "|---|---|\n",
    "| Name(First+Last) | Arnav Kanekar |\n",
    "|1|  |\n",
    "|2|  |\n",
    "|3| B. To save resources |\n",
    "|4| C. Imperfections on aircraft |\n",
    "|5| C. Situation considered |\n",
    "|6| A. Simulation |\n",
    "|7| A. Simulation |\n",
    "|8|  |\n",
    "|9| B. Experiment/Calculation |\n",
    "\n",
    "# Extra Simulation"
   ]
  },
  {
   "cell_type": "code",
   "execution_count": null,
   "metadata": {},
   "outputs": [],
   "source": []
  }
 ],
 "metadata": {
  "kernelspec": {
   "display_name": "base",
   "language": "python",
   "name": "python3"
  },
  "language_info": {
   "name": "python",
   "version": "3.9.12 (main, Apr  5 2022, 01:53:17) \n[Clang 12.0.0 ]"
  },
  "orig_nbformat": 4,
  "vscode": {
   "interpreter": {
    "hash": "40d3a090f54c6569ab1632332b64b2c03c39dcf918b08424e98f38b5ae0af88f"
   }
  }
 },
 "nbformat": 4,
 "nbformat_minor": 2
}
