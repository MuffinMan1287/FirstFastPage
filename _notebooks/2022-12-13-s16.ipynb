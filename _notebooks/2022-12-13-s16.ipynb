{
 "cells": [
  {
   "attachments": {},
   "cell_type": "markdown",
   "metadata": {},
   "source": [
    "# Unit 3 Section 16\n",
    "> Hacks for 3.16\n",
    "\n",
    "- toc: true\n",
    "- badges: true\n",
    "- comments: true\n",
    "- categories: [csp]\n",
    "- image: "
   ]
  },
  {
   "attachments": {},
   "cell_type": "markdown",
   "metadata": {},
   "source": [
    "# Notes\n",
    "- <mark>Simulation:</mark> simpler abstraction of an very complicated natural phenomena \n",
    "- Simulations remove details that are unnecessary or are too difficult to simulate\n",
    "- Simulations are cheaper to do, safer, repeatable, and can be used to make predictions\n",
    "- Experiments are usually much harder to do than simulations, but involve all real world variables\n",
    "- Simulations can be used for complex scenarioes\n",
    "- Things like rolling a dice have many things affecting it\n",
    "- Can use a psuedo-random number generator to represent things like roling a dice\n",
    "- Important to use flowcharts to plan out simulations\n",
    "    - Will take a lot of conditionals, iteration\n",
    "\n",
    "# Answers to Hacks\n",
    "|Question|Answer |\n",
    "|---|---|\n",
    "| Name(First+Last) | Arnav Kanekar |\n",
    "|1| None |\n",
    "|2| None |\n",
    "|3| A. To mock imperfections from the real world |\n",
    "|4| B. Other aircraft |\n",
    "|5| C. Situation considered |\n",
    "|6| A. Simulation |\n",
    "|7| A. Simulation |\n",
    "|8| None |\n",
    "|9| B. Experiment/Calculation |\n",
    "\n",
    "## Explanation of Answers\n",
    "- Q3: The random number generator is unable to mock imperfections from the real world, like terrain or air molecules when rolling dice. However, it is pretty good at simulating a random selection of numbers.\n",
    "- Q4: Since this is a flight traffic simulation, it mean that it is necessary to have a simulation of other aircraft.\n",
    "- Q5: Both simulations and experiments try to have the same environment for good simulation. However, simulations may try to simplify some scenarios, to make it cheaper.\n",
    "- Q6: Simulation is probably better because it would be cheaper and safer to do. However, it may be possible to an experiment with test dummies.\n",
    "- Q7: Simulation, since the environmental group will not want to spread extra greenhouse gases. The simulation would be much easier to do.\n",
    "- Q9: You just have to calculate the average.\n",
    "\n",
    "## Reflection\n",
    "Simulations help for people to learn more and predict important data which they can use to better improve algorithms and products. Simulations are often much cheaper and have no safety limits compared to real life experiments. I found these problems to be a little challenging, but a good review of simulations.\n",
    "\n",
    "# Extra Simulation\n",
    "\n",
    "I made a simple simulation for 1000 dice roles."
   ]
  },
  {
   "cell_type": "code",
   "execution_count": 10,
   "metadata": {},
   "outputs": [
    {
     "name": "stdout",
     "output_type": "stream",
     "text": [
      "Here are the results of the simulation\n",
      "Frequency of 1: 17.299999999999997%\n",
      "Frequency of 2: 15.9%\n",
      "Frequency of 3: 15.9%\n",
      "Frequency of 4: 18.2%\n",
      "Frequency of 5: 16.400000000000002%\n",
      "Frequency of 6: 16.3%\n"
     ]
    }
   ],
   "source": [
    "import random\n",
    "\n",
    "tracker = {1:0, 2:0, 3:0, 4:0, 5:0, 6:0}\n",
    "i = 0\n",
    "\n",
    "def diceGame():\n",
    "    dice_roll = random.randint(1, 6)\n",
    "    return dice_roll\n",
    "\n",
    "while i < 1000:\n",
    "    score = diceGame()\n",
    "    tracker[score] += 1\n",
    "    i += 1\n",
    "\n",
    "print(\"Here are the results of the dice rolling simulation.\")\n",
    "for j in range(1, 7):\n",
    "    tracker[j] = ((tracker[j])/1000)*100\n",
    "    print(\"Frequency of \" + str(j) + \": \" + str(tracker[j]) + \"%\")\n"
   ]
  }
 ],
 "metadata": {
  "kernelspec": {
   "display_name": "base",
   "language": "python",
   "name": "python3"
  },
  "language_info": {
   "codemirror_mode": {
    "name": "ipython",
    "version": 3
   },
   "file_extension": ".py",
   "mimetype": "text/x-python",
   "name": "python",
   "nbconvert_exporter": "python",
   "pygments_lexer": "ipython3",
   "version": "3.9.12 (main, Apr  5 2022, 01:53:17) \n[Clang 12.0.0 ]"
  },
  "orig_nbformat": 4,
  "vscode": {
   "interpreter": {
    "hash": "40d3a090f54c6569ab1632332b64b2c03c39dcf918b08424e98f38b5ae0af88f"
   }
  }
 },
 "nbformat": 4,
 "nbformat_minor": 2
}
