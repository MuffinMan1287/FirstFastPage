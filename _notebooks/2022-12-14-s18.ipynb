{
 "cells": [
  {
   "attachments": {},
   "cell_type": "markdown",
   "metadata": {},
   "source": [
    "# Unit 3 Sections 17 and 18\n",
    "> Hacks for 3.17, 3.18\n",
    "\n",
    "- toc: true\n",
    "- badges: true\n",
    "- comments: true\n",
    "- categories: [csp]\n",
    "- image: "
   ]
  },
  {
   "attachments": {},
   "cell_type": "markdown",
   "metadata": {},
   "source": [
    "# Notes\n",
    "\n",
    "- <mark>Decidable Problems:</mark> problems for which algorithms can be written to solve/produce a correct output for all possible inputs\n",
    "- <mark>Undecidable Problems:</mark> problems for which no algorithms can be built that can provide a correct yes or no answer\n",
    "    - Some undecidable problems can have algorithms to solve some parts, but not all parts of the problem"
   ]
  },
  {
   "attachments": {},
   "cell_type": "markdown",
   "metadata": {},
   "source": [
    "# Hack 1\n",
    "\n",
    "A decidable problem is one which an algorithm will be able to solve no matter the input. An undecidable problem is one where it is not possible for any algorithm to come to a correct solution. Sometimes, an undecidable problem can have some parts solved by an algorithm, but for a problem to be decidable, it must have all parts solved by an algorithm.\n",
    "\n",
    "# Hack 2\n",
    "- Answer: C. (3x8)^2\n",
    "- This is correct because it is features 2 integers being multiplied together and then raised to the power of 2.\n",
    "\n",
    "# Hack 3"
   ]
  },
  {
   "cell_type": "code",
   "execution_count": 5,
   "metadata": {},
   "outputs": [
    {
     "ename": "SyntaxError",
     "evalue": "Identifier 'array' has already been declared",
     "output_type": "error",
     "traceback": [
      "evalmachine.<anonymous>:1",
      "function peak_finder(array) {",
      "^",
      "",
      "SyntaxError: Identifier 'array' has already been declared",
      "    at evalmachine.<anonymous>:1:1",
      "    at Script.runInThisContext (vm.js:96:20)",
      "    at Object.runInThisContext (vm.js:303:38)",
      "    at run ([eval]:1020:15)",
      "    at onRunRequest ([eval]:864:18)",
      "    at onMessage ([eval]:828:13)",
      "    at process.emit (events.js:182:13)",
      "    at emit (internal/child_process.js:812:12)",
      "    at process._tickCallback (internal/process/next_tick.js:63:19)"
     ]
    }
   ],
   "source": [
    "function peak_finder(array) {\n",
    "  let low = 0;\n",
    "  let high = array.length - 1;\n",
    "  \n",
    "  // Keep searching for a peak until the low and high indices meet\n",
    "  while (low <= high) {\n",
    "    let mid = Math.floor((low + high) / 2);\n",
    "    \n",
    "    // Check if the middle element is a peak\n",
    "    if (array[mid] > array[mid - 1] && array[mid] > array[mid + 1]) {\n",
    "      return `The ${mid} indexed number, ${array[mid]} is a peak`;\n",
    "    }\n",
    "    \n",
    "    // If the middle element is not a peak,\n",
    "    // check if the left side of the array has a peak\n",
    "    if (array[mid - 1] > array[mid]) {\n",
    "      high = mid - 1;\n",
    "    } else {\n",
    "      // If the left side doesn't have a peak,\n",
    "      // the right side must have a peak\n",
    "      low = mid + 1;\n",
    "    }\n",
    "  }\n",
    "  \n",
    "  return \"Could not find a peak in the array\";\n",
    "}\n",
    "\n",
    "let array = [1, 2, 3, 4, 5, 6, 7, 8];\n",
    "console.log(peak_finder(array));\n"
   ]
  },
  {
   "cell_type": "code",
   "execution_count": 13,
   "metadata": {},
   "outputs": [
    {
     "name": "stdout",
     "output_type": "stream",
     "text": [
      "No peak was found\n"
     ]
    }
   ],
   "source": [
    "function peak_finder(array) {\n",
    "    let left = 0;\n",
    "    let right = array.length - 1;\n",
    "  \n",
    "    while (left <= right) {\n",
    "      const mid = Math.floor((left + right) / 2);\n",
    "  \n",
    "      if (array[mid] > array[mid + 1] && array[mid] > array[mid - 1]) {\n",
    "        return `The ${mid} indexed number, ${array[mid]} is a peak`;\n",
    "      } else if (array[mid] < array[mid + 1]) {\n",
    "        left = mid + 1;\n",
    "      } else {\n",
    "        right = mid - 1;\n",
    "      }\n",
    "    }\n",
    "  \n",
    "    return \"No peak was found\";\n",
    "  }\n",
    "\n",
    "let number = [0, 1, 2, 3, 4, 5];\n",
    "console.log((peak_finder(number)))"
   ]
  },
  {
   "attachments": {},
   "cell_type": "markdown",
   "metadata": {},
   "source": [
    "# Hack 4"
   ]
  },
  {
   "cell_type": "code",
   "execution_count": 4,
   "metadata": {},
   "outputs": [
    {
     "name": "stdout",
     "output_type": "stream",
     "text": [
      "[0, 1, 2, 3, 4, 5, 6, 7, 8, 9]\n"
     ]
    }
   ],
   "source": [
    "data = [9, 1, 7, 6, 2, 8, 5, 3, 4, 0]\n",
    "data = sorted(data)\n",
    "print(data)"
   ]
  },
  {
   "attachments": {},
   "cell_type": "markdown",
   "metadata": {},
   "source": [
    "# Hack 5"
   ]
  },
  {
   "cell_type": "code",
   "execution_count": 6,
   "metadata": {},
   "outputs": [
    {
     "name": "stdout",
     "output_type": "stream",
     "text": [
      "(1, 2, 3)\n",
      "(1, 3, 2)\n",
      "(2, 1, 3)\n",
      "(2, 3, 1)\n",
      "(3, 1, 2)\n",
      "(3, 2, 1)\n"
     ]
    }
   ],
   "source": [
    "from itertools import permutations\n",
    "\n",
    "data = [1, 2, 3]\n",
    "\n",
    "for i in permutations(data):\n",
    "    print(i)"
   ]
  }
 ],
 "metadata": {
  "kernelspec": {
   "display_name": "JavaScript (Node.js)",
   "language": "javascript",
   "name": "javascript"
  },
  "language_info": {
   "file_extension": ".js",
   "mimetype": "application/javascript",
   "name": "javascript",
   "version": "10.13.0"
  },
  "orig_nbformat": 4,
  "vscode": {
   "interpreter": {
    "hash": "40d3a090f54c6569ab1632332b64b2c03c39dcf918b08424e98f38b5ae0af88f"
   }
  }
 },
 "nbformat": 4,
 "nbformat_minor": 2
}
