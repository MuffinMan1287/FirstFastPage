{
 "cells": [
  {
   "attachments": {},
   "cell_type": "markdown",
   "metadata": {},
   "source": [
    "# Unit 3 Sections 17 and 18\n",
    "> Hacks for 3.17, 3.18\n",
    "\n",
    "- toc: true\n",
    "- badges: true\n",
    "- comments: true\n",
    "- categories: [csp]\n",
    "- image: "
   ]
  },
  {
   "attachments": {},
   "cell_type": "markdown",
   "metadata": {},
   "source": [
    "# Notes\n",
    "- An algorithm's efficiency is determine through formal or mathematical reasoning\n",
    "- An algorithm’s efficiency can be informally measured by determining the number of times a statement or group of statements executes\n",
    "- Different codes have different efficiencies\n",
    "- It is important to pay attention to efficiencies especially when dealing with large code segments and having a limited hardware\n",
    "- Improved efficiencies make programs faster and better for users\n",
    "- Algorithms with a polynomial efficiency or slower (constant, linear, square, cube, etc.) are said to run in a reasonable amount of time \n",
    "- Algorithms with exponential or factorial efficiencies are examples of algorithms that run in an unreasonable amount of time\n",
    "- Some problems can not be solved in a reasonable amount of time, so when this is the case, an approximate solution is found\n",
    "\n",
    "## Vocabulary\n",
    "- <mark>Problem:</mark> a description of a task that may or may not be able to be solved through the use of an algorithm\n",
    "- <mark>Instance of a problem:</mark> includes a specific input\n",
    "- <mark>Decision problem:</mark> Problem with a binary answer (yes or no)\n",
    "- <mark>Optimization problem:</mark> Problem with the objective of finding the BEST solution amongst many possibilities to solve a problem\n",
    "- <mark>Decidable Problems:</mark> problems for which algorithms can be written to solve/produce a correct output for all possible inputs\n",
    "- <mark>Undecidable Problems:</mark> problems for which no algorithms can be built that can provide a correct yes or no answer\n",
    "    - Some undecidable problems can have algorithms to solve some parts, but not all parts of the problem\n",
    "- <mark>1 Step Problem:</mark> When an integer is multiplied by a value(Linear)\n",
    "- <mark>2 Step Problem:</mark> When an integer is raised to a power of n(Exponential)\n",
    "- <mark>3 Step Problem:</mark> When an integer is multiplied by a value, and then raised to a power of 2(Square)\n",
    "- <mark>4 Step Problem:</mark> A factorial problem\n",
    "- <mark>Constant Time:</mark> Will always take the same number of steps, no matter how large input it\n",
    "- <mark>Linear Time:</mark> The number of steps increases in direct proportion to the input size\n",
    "- <mark>Quadratic Time:</mark> The number of steps increase in proportion to the input size squared\n",
    "- <mark>Exponential Time:</mark> The number of steps increase in proportion to the input size squared\n",
    "- <mark>Polynomial time:</mark> any run time that does not increase faster than n^k which includes constant time, quadratic time, and other higher degree polynomials\n",
    "- <mark>Superpolynomial time:</mark> any run time that does increase faster than n^k which includes Exponential time and factorial time\n",
    "- <mark>Reasonable Time:</mark> Algorithms with a polynomial efficiency or lower (constant, linear, square, cube, etc.)\n",
    "- <mark>Unreasonable Time:</mark> Algorithms with exponential or factorial efficiencies"
   ]
  },
  {
   "attachments": {},
   "cell_type": "markdown",
   "metadata": {},
   "source": [
    "# Hack 1\n",
    "\n",
    "A decidable problem is one which an algorithm will be able to solve no matter the input. An undecidable problem is one where it is not possible for any algorithm to come to a correct solution. Sometimes, an undecidable problem can have some parts solved by an algorithm, but for a problem to be decidable, it must have all parts solved by an algorithm.\n",
    "\n",
    "# Hack 2\n",
    "- Answer: C. (3x8)^2\n",
    "- This is correct because it is features 2 integers being multiplied together and then raised to the power of 2.\n",
    "\n",
    "# Hack 3\n",
    "\n",
    "- Explanation for Code: Defines a function to find a peak, and goes through each item, and checks if it is greater than the stored value.\n",
    "\n",
    "- Why this is more efficient: This uses much less code and will work for all lists. This code is easy to write an understand.\n",
    "    - <mark>NOTE:</mark> A binary search would be much more time efficient, as it would use exponential time. However, I was having trouble creating this code due to the overall challenge and expertise needed for creating such a complex algorithm."
   ]
  },
  {
   "cell_type": "code",
   "execution_count": 15,
   "metadata": {},
   "outputs": [
    {
     "name": "stdout",
     "output_type": "stream",
     "text": [
      "8\n"
     ]
    }
   ],
   "source": [
    "function peak_finder(array) {\n",
    "  var peak = array[0];\n",
    "  for (i = 0; i < array.length; i ++) {\n",
    "    if (array[i] > peak) {\n",
    "      var peak = array[i];\n",
    "    }\n",
    "  }\n",
    "  return peak;\n",
    "}\n",
    "\n",
    "var numbers = [1, 2, 3, 4, 5, 6, 7, 8];\n",
    "console.log(peak_finder(numbers));\n"
   ]
  },
  {
   "attachments": {},
   "cell_type": "markdown",
   "metadata": {},
   "source": [
    "# Hack 4\n",
    "\n",
    "- Explanation for Code: This code defines a list, which has the numbers. Then, it redefines the list of numbers, using the function in Python called `sorted`. This automatically sorts the data in order from lowest to highest.\n",
    "\n",
    "- Why this is more efficient: This is a much smaller piece of code, making it much easier to write and understand. It calls the data less and does not create any new variables other than data. It uses a built in function to sort the data, instead of recreating a function to do so."
   ]
  },
  {
   "cell_type": "code",
   "execution_count": 4,
   "metadata": {},
   "outputs": [
    {
     "name": "stdout",
     "output_type": "stream",
     "text": [
      "[0, 1, 2, 3, 4, 5, 6, 7, 8, 9]\n"
     ]
    }
   ],
   "source": [
    "data = [9, 1, 7, 6, 2, 8, 5, 3, 4, 0]\n",
    "data = sorted(data)\n",
    "print(data)"
   ]
  },
  {
   "attachments": {},
   "cell_type": "markdown",
   "metadata": {},
   "source": [
    "# Hack 5\n",
    "\n",
    "- Explanation for Code: Imports the permutation method from the library `itertools`. Using this, we can use a built in command to create permutations. Using a for loop, we can iterate through all possible permutations, and print them.\n",
    "\n",
    "- Why this is more efficient: This is not only a much smaller piece of code, but it does not require recalling a variable multiple times, like in the former program. This is also more efficient for the developer, as it allows for the individual to code much less and in a simpler fashion."
   ]
  },
  {
   "cell_type": "code",
   "execution_count": 6,
   "metadata": {},
   "outputs": [
    {
     "name": "stdout",
     "output_type": "stream",
     "text": [
      "(1, 2, 3)\n",
      "(1, 3, 2)\n",
      "(2, 1, 3)\n",
      "(2, 3, 1)\n",
      "(3, 1, 2)\n",
      "(3, 2, 1)\n"
     ]
    }
   ],
   "source": [
    "from itertools import permutations\n",
    "\n",
    "data = [1, 2, 3]\n",
    "\n",
    "for i in permutations(data):\n",
    "    print(i)"
   ]
  }
 ],
 "metadata": {
  "kernelspec": {
   "display_name": "JavaScript (Node.js)",
   "language": "javascript",
   "name": "javascript"
  },
  "language_info": {
   "file_extension": ".js",
   "mimetype": "application/javascript",
   "name": "javascript",
   "version": "10.13.0"
  },
  "orig_nbformat": 4,
  "vscode": {
   "interpreter": {
    "hash": "40d3a090f54c6569ab1632332b64b2c03c39dcf918b08424e98f38b5ae0af88f"
   }
  }
 },
 "nbformat": 4,
 "nbformat_minor": 2
}
