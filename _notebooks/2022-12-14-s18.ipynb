{
 "cells": [
  {
   "attachments": {},
   "cell_type": "markdown",
   "metadata": {},
   "source": [
    "# Unit 3 Sections 17 and 18\n",
    "> Hacks for 3.17, 3.18\n",
    "\n",
    "- toc: true\n",
    "- badges: true\n",
    "- comments: true\n",
    "- categories: [csp]\n",
    "- image: "
   ]
  },
  {
   "attachments": {},
   "cell_type": "markdown",
   "metadata": {},
   "source": [
    "# Notes\n",
    "\n",
    "- <mark>Decidable Problems:</mark> problems for which algorithms can be written to solve/produce a correct output for all possible inputs\n",
    "- <mark>Undecidable Problems:</mark> problems for which no algorithms can be built that can provide a correct yes or no answer\n",
    "    - Some undecidable problems can have algorithms to solve some parts, but not all parts of the problem"
   ]
  },
  {
   "attachments": {},
   "cell_type": "markdown",
   "metadata": {},
   "source": [
    "# Hack 1\n",
    "\n",
    "# Hack 2\n",
    "- Answer: C. (3x8)^2\n",
    "- This is correct because it is features 2 integers being multiplied together and then raised to the power of 2."
   ]
  }
 ],
 "metadata": {
  "kernelspec": {
   "display_name": "base",
   "language": "python",
   "name": "python3"
  },
  "language_info": {
   "name": "python",
   "version": "3.9.12 (main, Apr  5 2022, 01:53:17) \n[Clang 12.0.0 ]"
  },
  "orig_nbformat": 4,
  "vscode": {
   "interpreter": {
    "hash": "40d3a090f54c6569ab1632332b64b2c03c39dcf918b08424e98f38b5ae0af88f"
   }
  }
 },
 "nbformat": 4,
 "nbformat_minor": 2
}
